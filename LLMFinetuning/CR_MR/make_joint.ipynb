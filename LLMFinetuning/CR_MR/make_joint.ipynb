{
 "cells": [
  {
   "cell_type": "code",
   "execution_count": 1,
   "metadata": {},
   "outputs": [
    {
     "name": "stdout",
     "output_type": "stream",
     "text": [
      "Joint dataset created and saved as joint_dataset.json\n"
     ]
    }
   ],
   "source": [
    "import json\n",
    "\n",
    "# File paths for the two JSON files\n",
    "math_file_path = 'math_10k.json'\n",
    "commonsense_file_path = 'commonsense_170k.json'\n",
    "output_file_path = 'joint_dataset.json'\n",
    "\n",
    "# Load the JSON files\n",
    "with open(math_file_path, 'r') as math_file:\n",
    "    math_data = json.load(math_file)\n",
    "\n",
    "with open(commonsense_file_path, 'r') as commonsense_file:\n",
    "    commonsense_data = json.load(commonsense_file)\n",
    "\n",
    "# Combine the two datasets\n",
    "joint_data = math_data + commonsense_data\n",
    "\n",
    "# Save the combined dataset to a new file\n",
    "with open(output_file_path, 'w') as joint_file:\n",
    "    json.dump(joint_data, joint_file, indent=4)\n",
    "\n",
    "print(f\"Joint dataset created and saved as {output_file_path}\")"
   ]
  },
  {
   "cell_type": "code",
   "execution_count": 1,
   "metadata": {},
   "outputs": [
    {
     "name": "stdout",
     "output_type": "stream",
     "text": [
      "56k commonsense dataset created and saved as commonsense_56k.json\n"
     ]
    }
   ],
   "source": [
    "# I want to make one third of commonsense dataset by randomly selecting 56k samples \n",
    "import json\n",
    "import random\n",
    "\n",
    "# set seed\n",
    "random.seed(0)\n",
    "\n",
    "commonsense_file_path = 'commonsense_170k.json'\n",
    "output_file_path = 'commonsense_56k.json'\n",
    "\n",
    "# Load the JSON file\n",
    "with open(commonsense_file_path, 'r') as commonsense_file:\n",
    "    commonsense_data = json.load(commonsense_file)\n",
    "\n",
    "# Randomly select 56k samples\n",
    "commonsense_data_56k = random.sample(commonsense_data, 56000)\n",
    "\n",
    "# Save the 56k dataset to a new file\n",
    "with open(output_file_path, 'w') as commonsense_file:\n",
    "    json.dump(commonsense_data_56k, commonsense_file, indent=4)\n",
    "\n",
    "print(f\"56k commonsense dataset created and saved as {output_file_path}\")\n",
    "\n",
    "    "
   ]
  }
 ],
 "metadata": {
  "kernelspec": {
   "display_name": "Reasoning",
   "language": "python",
   "name": "python3"
  },
  "language_info": {
   "codemirror_mode": {
    "name": "ipython",
    "version": 3
   },
   "file_extension": ".py",
   "mimetype": "text/x-python",
   "name": "python",
   "nbconvert_exporter": "python",
   "pygments_lexer": "ipython3",
   "version": "3.10.14"
  }
 },
 "nbformat": 4,
 "nbformat_minor": 2
}
